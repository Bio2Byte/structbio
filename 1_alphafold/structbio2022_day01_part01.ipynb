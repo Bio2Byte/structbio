{
 "cells": [
  {
   "cell_type": "markdown",
   "id": "0c05c7e1-2830-4a7b-ac9e-55b245752562",
   "metadata": {
    "tags": []
   },
   "source": [
    "Structural biology - Practical day 01\n",
    "=======================================\n",
    "\n",
    "Part 01\n",
    "-------\n",
    "\n",
    "Document written by [Adrián Diaz](mailto:adrian.diaz@vub.be) & [David Bickel](mailto:david.bickel@vub.be)\n",
    "\n",
    "**Vrije Universiteit Brussel**"
   ]
  },
  {
   "cell_type": "markdown",
   "id": "4caa3d3a-1485-4534-80f4-276b851954b7",
   "metadata": {},
   "source": [
    "## The scenario\n",
    "\n",
    "We have these proteins involved: \n",
    "\n",
    "- Gyrase (dimer) `Gyr:Gyr`\n",
    "- Toxin (dimer) `CcdB:CcdB`\n",
    "- Anti-toxin `CcdA`\n",
    "\n",
    "### Sequences\n",
    "\n",
    "The following code block contains the residues of both Toxin and Anti-toxin proteins in FASTA format. You will use them to create the prediction job.\n",
    "\n",
    "```fasta\n",
    ">CcdA\n",
    "MKQRITVTVDSDSYQLLKAYDVNISGLVSTTMQNEARRLRAERWKAENQEGMAEVARFIEMNGSFADENRDW\n",
    "\n",
    ">CcdB\n",
    "MQFKVYTYKRESRYRLFVDVQSDIIDTPGRRMVIPLASARLLSDKVSRELYPVVHIGDESWRMMTTDMASVPVSVIGEEVADLSHRENDIKNAINLMFWGI\n",
    "```\n",
    "\n",
    "### Task A\n",
    "Predict the following complexes using ColabFold:\n",
    "\n",
    "- Group A: `CcdB:CcdB:CcdA`\n",
    "- Group B: `CcdB:CcdB`\n"
   ]
  },
  {
   "cell_type": "markdown",
   "id": "4ebe22ff-6f27-4ee0-a6fc-b170afa73f50",
   "metadata": {
    "tags": []
   },
   "source": [
    "## AlphaFold2 Job\n",
    "AlphaFold is installed for the Nvidia Ampere GPUs in Hydra. You only need the sequence file (FASTA format) of the protein for your job. VUB-HPC provides the full datasets for AlphaFold in a central location accessible to all users. The software modules of AlphaFold are configured to use the datasets in this shared central location by default."
   ]
  },
  {
   "cell_type": "markdown",
   "id": "59e6fa02",
   "metadata": {},
   "source": [
    "#### Group A\n",
    "\n",
    "`CcdB:CcdB:CcdA`"
   ]
  },
  {
   "cell_type": "code",
   "execution_count": null,
   "id": "8c8b298a",
   "metadata": {},
   "outputs": [],
   "source": [
    "prediction_input = \"\"\"\n",
    ">CcdB_1\n",
    "MQFKVYTYKRESRYRLFVDVQSDIIDTPGRRMVIPLASARLLSDKVSRELYPVVHIGDESWRMMTTDMASVPVSVIGEEVADLSHRENDIKNAINLMFWGI\n",
    "\n",
    ">CcdB_2\n",
    "MQFKVYTYKRESRYRLFVDVQSDIIDTPGRRMVIPLASARLLSDKVSRELYPVVHIGDESWRMMTTDMASVPVSVIGEEVADLSHRENDIKNAINLMFWGI\n",
    "\n",
    ">ccdA_1\n",
    "MKQRITVTVDSDSYQLLKAYDVNISGLVSTTMQNEARRLRAERWKAENQEGMAEVARFIEMNGSFADENRDW\n",
    "\"\"\""
   ]
  },
  {
   "cell_type": "markdown",
   "id": "da5c4fc5",
   "metadata": {},
   "source": [
    "#### Group B\n",
    "\n",
    "`CcdB:CcdB`"
   ]
  },
  {
   "cell_type": "code",
   "execution_count": null,
   "id": "7bd147a2-bcd0-4cd6-bffe-d975918cbd6b",
   "metadata": {},
   "outputs": [],
   "source": [
    "prediction_input = \"\"\"\n",
    ">ccdA_1\n",
    "MKQRITVTVDSDSYQLLKAYDVNISGLVSTTMQNEARRLRAERWKAENQEGMAEVARFIEMNGSFADENRDW\n",
    "\n",
    ">_ccdA_2\n",
    "MKQRITVTVDSDSYQLLKAYDVNISGLVSTTMQNEARRLRAERWKAENQEGMAEVARFIEMNGSFADENRDW\n",
    "\"\"\""
   ]
  },
  {
   "cell_type": "markdown",
   "id": "7bcbc277",
   "metadata": {},
   "source": [
    "#### Creating the required directories and files\n",
    "\n",
    "First the input/output directories:"
   ]
  },
  {
   "cell_type": "code",
   "execution_count": null,
   "id": "d524492c-2028-486a-8d00-5e3b0af41aad",
   "metadata": {},
   "outputs": [],
   "source": [
    "%%bash\n",
    "# Create input directory\n",
    "mkdir -p ./input\n",
    "\n",
    "# Create output directory\n",
    "mkdir -p ./output"
   ]
  },
  {
   "cell_type": "markdown",
   "id": "dfc7996e",
   "metadata": {},
   "source": [
    "Now the input FASTA file"
   ]
  },
  {
   "cell_type": "code",
   "execution_count": null,
   "id": "cdbe10ec-f25c-4154-b552-5184847fc089",
   "metadata": {},
   "outputs": [],
   "source": [
    "import os\n",
    "\n",
    "input_path = os.path.abspath(os.path.join('./input', \"multimer.fasta\"))\n",
    "\n",
    "print(\"Saving input file in\", input_path)\n",
    "\n",
    "with open(input_path, \"w\") as file_handler:\n",
    "    file_handler.write(prediction_input)\n",
    "\n",
    "print(\"Input file saved in\", input_path)"
   ]
  },
  {
   "cell_type": "markdown",
   "id": "e1f45817",
   "metadata": {},
   "source": [
    "And finally, the job script:"
   ]
  },
  {
   "cell_type": "code",
   "execution_count": null,
   "id": "6614114e",
   "metadata": {},
   "outputs": [],
   "source": [
    "prediction_job = \"\"\"#!/bin/bash\n",
    "\n",
    "# SCRIPT RESOURCE CONFIG:\n",
    "#SBATCH --partition=ampere_gpu\n",
    "#SBATCH --nodes=1\n",
    "#SBATCH --gpus-per-node=1\n",
    "#SBATCH --cpus-per-gpu=16\n",
    "#SBATCH --job-name=structbio_multimer\n",
    "#SBATCH --time=02:00:00\n",
    "#SBATCH --reservation=structbio1\n",
    "\n",
    "# LOADING CUDA (GPU) DEPENDENCIES:\n",
    "export CUDA_MPS_PIPE_DIRECTORY=$TMPDIR/nvidia-mps-pipe\n",
    "export CUDA_MPS_LOG_DIRECTORY=$TMPDIR/nvidia-mps-log\n",
    "nvidia-cuda-mps-control -d\n",
    "\n",
    "# LOADING ALPHAFOLD IN MEMORY:\n",
    "module load AlphaFold/2.3.4-foss-2022a-CUDA-11.7.0-ColabFold\n",
    "\n",
    "# SETUP INPUT/OUTPUT FILES\n",
    "BASE_DIR={base_dir}\n",
    "INPUT_FASTA=$BASE_DIR/input/multimer.fasta\n",
    "OUTPUT_DIR=$BASE_DIR/output\n",
    "\n",
    "# LAUNCH ALPHAFOLD\n",
    "run_alphafold.py \\\\\n",
    "    --model_preset=multimer \\\\\n",
    "    --fasta_paths=$INPUT_FASTA \\\\\n",
    "    --max_template_date=1900-01-01 \\\\\n",
    "    --db_preset=reduced_dbs \\\\\n",
    "    --models_to_relax=best \\\\\n",
    "    --enable_gpu_relax=true \\\\\n",
    "    --use_precomputed_msas=true \\\\\n",
    "    --num_multimer_predictions_per_model=1 \\\\\n",
    "    --output_dir=$OUTPUT_DIR\n",
    "\"\"\".format(base_dir=os.getcwd())"
   ]
  },
  {
   "cell_type": "markdown",
   "id": "8752d1d6",
   "metadata": {},
   "source": [
    "About AlphaFold flags:\n",
    "\n",
    "**Templates:**\n",
    "\n",
    "The `--max_template_date` flag is mandatory when running AlphaFold. If you are predicting the structure of a protein that is already in PDB and you wish to avoid using it as a template, then max_template_date must be set to be before the release date of the structure.\n",
    "\n",
    "**Model:**\n",
    "\n",
    "- `monomer`: This is the original model used at CASP14 with no ensembling.\n",
    "- `monomer_casp14`: This is the original model used at CASP14 with num_ensemble=8, matching our CASP14 configuration. This is largely provided for reproducibility as it is 8x more computationally expensive for limited accuracy gain (+0.1 average GDT gain on CASP14 domains).\n",
    "- `monomer_ptm`: This is the original CASP14 model fine tuned with the pTM head, providing a pairwise confidence measure. It is slightly less accurate than the normal monomer model.\n",
    "- `multimer`: This is the AlphaFold-Multimer model. To use this model, provide a multi-sequence FASTA file. In addition, the UniProt database should have been downloaded.\n",
    "\n",
    "**DB:**\n",
    "\n",
    "You can control MSA speed/quality tradeoff by adding `--db_preset=reduced_dbs` or `--db_preset=full_dbs` to the run command. We provide the following presets:\n",
    "\n",
    "- `reduced_dbs`: This preset is optimized for speed and lower hardware requirements. It runs with a reduced version of the BFD database. It requires 8 CPU cores (vCPUs), 8 GB of RAM, and 600 GB of disk space.\n",
    "- `full_dbs`: This runs with all genetic databases used at CASP14.\n",
    "\n",
    "**Relaxation:**\n",
    "\n",
    "After generating the predicted model, AlphaFold runs a relaxation step to improve local geometry. By default, only the best model (by pLDDT) is relaxed (`--models_to_relax=best`), but also all of the models (`--models_to_relax=all`) or none of the models (`--models_to_relax=none`) can be relaxed.\n",
    "\n",
    "The relaxation step can be run on GPU (faster, but could be less stable) or CPU (slow, but stable). This can be controlled with --enable_gpu_relax=true (default) or --enable_gpu_relax=false.\n",
    "\n",
    "**MSA:**\n",
    "\n",
    "AlphaFold can re-use MSAs (multiple sequence alignments) for the same sequence via --use_precomputed_msas=true option; this can be useful for trying different AlphaFold parameters. This option assumes that the directory structure generated by the first AlphaFold run in the output directory exists and that the protein sequence is the same.\n",
    "\n",
    "**Seed:**\n",
    "\n",
    "By default the multimer system will run 5 seeds per model (25 total predictions) for a small drop in accuracy you may wish to run a single seed per model. This can be done via the `--num_multimer_predictions_per_model` flag, e.g. set it to `--num_multimer_predictions_per_model=1` to run a single seed per model."
   ]
  },
  {
   "cell_type": "markdown",
   "id": "1f2439ce",
   "metadata": {},
   "source": [
    "Now we can save the script into the job file:"
   ]
  },
  {
   "cell_type": "code",
   "execution_count": null,
   "id": "ef82ba56-00da-40bf-88f6-732325bab3fd",
   "metadata": {},
   "outputs": [],
   "source": [
    "job_name = \"structbio_multimer.sh\"\n",
    "job_path = os.path.join(\"./input\", job_name)\n",
    "\n",
    "print(\"Saving job file in\", job_path)\n",
    "\n",
    "with open(job_path, \"w\") as file_handler:\n",
    "    file_handler.write(prediction_job)\n",
    "\n",
    "print(\"Job file saved in\", job_path)"
   ]
  },
  {
   "cell_type": "markdown",
   "id": "b5723cf1-9630-43b9-b3fc-487df5209044",
   "metadata": {
    "tags": []
   },
   "source": [
    "### About Slurm jobs in Hydra\n",
    "\n",
    "Slurm provides a complete toolbox to manage and control your jobs. Some of them carry out common tasks: \n",
    "\n",
    "- submitting job scripts to the queue (`sbatch`)\n",
    "- printing information about the queue (`mysqueue`)\n",
    "\n",
    "Jobs are descripted using Bash files with these header options:\n",
    "\n",
    "- `--job-name=job_name` : Set job name to job_name\n",
    "- `--time=DD-HH:MM:SS`: Define the time limit\n",
    "- `--mail-type=BEGIN|END|FAIL|REQUEUE|ALL`: Conditions for sending alerts by email\n",
    "- `--partition=cluster_type`: Request a cluster\n",
    "\n",
    "\n",
    "More information: https://hpc.vub.be/docs/job-submission/"
   ]
  },
  {
   "cell_type": "markdown",
   "id": "e33a9bec-ed59-47bc-b9ed-edb8befb4bcd",
   "metadata": {
    "tags": []
   },
   "source": [
    "## Job enqueueing\n",
    "\n",
    "The job is submitted using the command `sbatch` followed by the name of our job file. You will receive a job identifier as output."
   ]
  },
  {
   "cell_type": "code",
   "execution_count": null,
   "id": "2526f3d3-344a-4597-bd6f-8004dd52d00f",
   "metadata": {},
   "outputs": [],
   "source": [
    "import subprocess\n",
    "\n",
    "print(\"Submitting job file saved in\", job_path)\n",
    "\n",
    "process = subprocess.Popen(['sbatch', job_path],\n",
    "                     stdout=subprocess.PIPE,\n",
    "                     stderr=subprocess.PIPE)\n",
    "\n",
    "stdout, stderr = process.communicate()\n",
    "return_code    = process.poll()\n",
    "\n",
    "print(f\"stdout (exit code={return_code}):\")\n",
    "for line in stdout.decode().split(\"\\n\"):\n",
    "    print(line)\n",
    "\n",
    "print(f\"stderr (exit code={return_code}):\")\n",
    "for line in stderr.decode().split(\"\\n\"):\n",
    "    print(line)"
   ]
  },
  {
   "cell_type": "markdown",
   "id": "e0c54f0a-9ee0-41b6-af70-581fcbb846e4",
   "metadata": {},
   "source": [
    "### Query the queue status\n",
    "The command to run is `mysqueue`. While the job is running you could visualize the SLURM logs inside the `slurm-JOBID.out` file:\n",
    "\n",
    "- Cat command: View the full content of the file. `cat slurm-JOBID.out`\n",
    "- Tail command: View the last lines of the file. `tail -f slurm-JOBID.out` (with `-f` the command will follow the output automatically)."
   ]
  },
  {
   "cell_type": "code",
   "execution_count": null,
   "id": "4c33f3e9-2e87-4a01-9220-eb291ebf3663",
   "metadata": {},
   "outputs": [],
   "source": [
    "import subprocess\n",
    "\n",
    "process = subprocess.Popen(['mysqueue'],\n",
    "                     stdout=subprocess.PIPE,\n",
    "                     stderr=subprocess.PIPE)\n",
    "\n",
    "stdout, stderr = process.communicate()\n",
    "return_code    = process.poll()\n",
    "\n",
    "print(f\"stdout (exit code={return_code}):\")\n",
    "for line in stdout.decode().split(\"\\n\"):\n",
    "    print(line)\n",
    "\n",
    "print(f\"stderr (exit code={return_code}):\")\n",
    "for line in stderr.decode().split(\"\\n\"):\n",
    "    print(line)"
   ]
  },
  {
   "cell_type": "markdown",
   "id": "773893b3-70ee-4a8e-b3bb-33f0c3548caa",
   "metadata": {},
   "source": [
    "We are ready to continue working on the next Jupyter Notebook!"
   ]
  }
 ],
 "metadata": {
  "kernelspec": {
   "display_name": "Python 3 (ipykernel)",
   "language": "python",
   "name": "python3"
  },
  "language_info": {
   "codemirror_mode": {
    "name": "ipython",
    "version": 3
   },
   "file_extension": ".py",
   "mimetype": "text/x-python",
   "name": "python",
   "nbconvert_exporter": "python",
   "pygments_lexer": "ipython3",
   "version": "3.9.5"
  }
 },
 "nbformat": 4,
 "nbformat_minor": 5
}
