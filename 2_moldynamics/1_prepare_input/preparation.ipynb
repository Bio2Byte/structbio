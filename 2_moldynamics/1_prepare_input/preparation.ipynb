{
 "cells": [
  {
   "cell_type": "markdown",
   "id": "a2bb0b6c-498a-4b58-9050-92e12aabc710",
   "metadata": {},
   "source": [
    "# Structural biology - Practical day 02\n",
    "\n",
    "## Preparation of input files for MD simulations\n",
    "\n",
    "Document written by [Adrián Diaz](mailto:adrian.diaz@vub.be) & [David Bickel](mailto:david.bickel@vub.be).\n",
    "\n",
    "The principal information needed to start the simulation is the **protein structure**. In the following steps this structure will be processed, to obtain a realistic representation of the natural enviroment.\n",
    "\n",
    "1. Parse the input structure\n",
    "2. Define the periodic boundary box\n",
    "3. Solvate the system (add water molecules)\n",
    "4. Add ions (0.15 M NaCl solution)"
   ]
  },
  {
   "cell_type": "markdown",
   "id": "6a928f2b-6dff-48b2-9fd5-79d696201de4",
   "metadata": {},
   "source": [
    "***\n",
    "\n",
    "Let's first make sure, you have all needed modules loaded:\n",
    "* GROMACS/2021.3-foss-2021a\n",
    "* Panedr/0.7.0-foss-2021a\n",
    "\n",
    "\n",
    "Now, copy your top-ranked AlphaFold model to the current working directory by executing the following lines in a terminal."
   ]
  },
  {
   "cell_type": "code",
   "execution_count": 2,
   "id": "f1132565-2f84-4614-ae54-23d6425e5730",
   "metadata": {
    "vscode": {
     "languageId": "shellscript"
    }
   },
   "outputs": [
    {
     "name": "stdout",
     "output_type": "stream",
     "text": [
      "/home/dbickel/teaching/structbio/day_02/1_prepare_input\n"
     ]
    }
   ],
   "source": [
    "%%bash\n",
    "# Copy the top ranked AlphaFold2 model from day 1 (edit the command to match your file)\n",
    "MYPROTEIN=\"protein\"\n",
    "cp ../../1_alphafold/output/...  $MYPROTEIN.pdb"
   ]
  },
  {
   "cell_type": "markdown",
   "id": "bf04b6d9-83f4-4599-9c5f-078a6b8a0c7c",
   "metadata": {},
   "source": [
    "***\n",
    "\n",
    "## Reading the input PDB ##\n",
    "\n",
    "In this step, the input structure is parsed and split into **two parts**:\n",
    "\n",
    "1. **Topology** (Containing information about atom types, bonds, angles, ...)\n",
    "2. **Coordinates** (x-, y-, and z-coordinates of each atom)\n",
    "\n",
    "Both the topology and the coordinates store different types of information. To run the MD simulation, always a topology and a coordinate file will be needed as input.\n",
    "\n",
    "> ***Why are these two types of information stored in separate files?***\n",
    ">\n",
    "> Think about, what happens and changes, while running simulations?\n",
    "\n",
    "Enter the command below in a terminal. A dialog (+ the course instructor) will guide you through the generation process of the MD input files."
   ]
  },
  {
   "cell_type": "code",
   "execution_count": null,
   "id": "fe9b81bc-f0d6-45e1-9237-7594cb110857",
   "metadata": {
    "vscode": {
     "languageId": "shellscript"
    }
   },
   "outputs": [],
   "source": [
    "%%bash\n",
    "# PDB2GMX\n",
    "# =======\n",
    "#\n",
    "# Parses a PDB file and generates topology and coordinate files from it, to run \n",
    "# MD simulations.\n",
    "#\n",
    "# Parameters:\n",
    "#   -f <file.pdb>   The input PDB file.\n",
    "#   -o <file.gro>   The output coordinate file (Gromos87 format)\n",
    "#   -p <file.top>   The output topology file.\n",
    "#   -ter            Option for special parsing behaviour of PDB files.\n",
    "#   -ignh           Remove all hydrogens from the PDB and add the yourself.\n",
    "\n",
    "gmx pdb2gmx \\\n",
    "    -f $MYPROTEIN.pdb \\\n",
    "    -o $MYPROTEIN.4gmx.gro \\\n",
    "    -p $MYPROTEIN.top \\\n",
    "    -ter -ignh"
   ]
  },
  {
   "cell_type": "code",
   "execution_count": null,
   "id": "6faf1a5d-edf4-43c9-9d37-8b3cfbda2dc6",
   "metadata": {},
   "outputs": [],
   "source": [
    "import glob\n",
    "import nglview as nv\n",
    "\n",
    "grofile = glob.glob(\"*.4gmx.gro\").pop()\n",
    "\n",
    "view = nv.show_structure_file(grofile, default_representation=False)\n",
    "view._remote_call(\"setSize\", target=\"Widget\", args=[\"800px\", \"600px\"])\n",
    "view.add_cartoon(\"protein\", color_scheme=\"atomindex\")\n",
    "# view.add_surface(\"protein\", opacity=0.15)\n",
    "view.center() # Center and zoom molecule\n",
    "view"
   ]
  },
  {
   "cell_type": "markdown",
   "id": "b1fad435-6a7d-4f24-aba3-db54a1bb4028",
   "metadata": {},
   "source": [
    "***\n",
    "\n",
    "### Setting up periodic boundary conditions ###\n",
    "\n",
    "In this step, **periodic boundary conditions (PBC)** are applied to the protein by adding a periodic boundary box arround it. \n",
    "The PBC is is a 'mathematical trick' to simulate proteins dissolved in a bulk of water, while in reality only simulating the tiniest droplet of water.\n",
    "\n",
    "> ***What is next to the droplet of water?***\n",
    ">\n",
    "> * nothing... (a vacuum?! But then the water would just disperse and expose the protein to the vacuum, too!)\n",
    "> * a wall... (That would keep the water molecules in the droplet. But everytime they bounce back after crashing into the wall, they do not follow normal diffusion any more.)\n",
    "> *  more water... (We really do not want to simulate millions of water molecules.)\n",
    "\n",
    "PBC solve that issue, in an elegant way. The droplet is surrounded by infinite copies of itself. Therefore, from the protein's perspective it is in an infinite solution of water, with copies of itself (or biochemically speaking, a 0.1 M solution ;-)). This has the cartoon-like side effect, that if an atom exits the box on one side, it automatically reenters the same box on the opposing site.\n",
    "\n",
    "<img src=\"https://isaacs.sourceforge.net/phys/images/these-seb/pbc-seb.png\" alt=\"Periodic boundary conditions\" width=\"250\" />\n",
    "<br>\n",
    "\n",
    "> ***What does the flag `-d 1.2` in the command below mean?***\n",
    ">\n",
    "> Use `gmx editconf -h` to find out.\n",
    "\n",
    "<br>\n",
    "\n",
    "> ***What shape does our periodic boundary box has? Why was that shape chosen?***\n",
    ">\n",
    "> Use `gmx editconf -h` to find out. Discuss."
   ]
  },
  {
   "cell_type": "code",
   "execution_count": null,
   "id": "4864c3b3-116b-40bd-aa0b-144d3a2ad97d",
   "metadata": {
    "vscode": {
     "languageId": "shellscript"
    }
   },
   "outputs": [],
   "source": [
    "%%bash\n",
    "# EDITCONF\n",
    "# =======\n",
    "#\n",
    "# Modifies a structure file to include periodic boundary conditions.\n",
    "#\n",
    "# Parameters:\n",
    "#   -f <file.gro>   The input structure.\n",
    "#   -o <file.gro>   The output structure.\n",
    "#   -bt             ... ?\n",
    "#   -d              ... ?\n",
    "\n",
    "gmx editconf \\\n",
    "    -f $MYPROTEIN.4gmx.gro \\\n",
    "    -o $MYPROTEIN.4gmx.box.gro \\\n",
    "    -bt dodecahedron \\\n",
    "    -d 1.2"
   ]
  },
  {
   "cell_type": "markdown",
   "id": "7de93b7a-be1a-44ad-ac00-28f8e221b13c",
   "metadata": {},
   "source": [
    "***\n",
    "\n",
    "## Solvating the system ##\n",
    "\n",
    "Finally we fill all empty space in our periodic boundary box with with water molecules."
   ]
  },
  {
   "cell_type": "code",
   "execution_count": null,
   "id": "891a73aa-443a-44a6-b885-e7c81238a6c6",
   "metadata": {
    "vscode": {
     "languageId": "shellscript"
    }
   },
   "outputs": [],
   "source": [
    "%%bash \n",
    "# SOLVATE\n",
    "# =======\n",
    "#\n",
    "# Add water molecules to the system\n",
    "#\n",
    "# Parameters:\n",
    "#   -cp <file.gro>      The input structure.\n",
    "#   -cs <water.gro>     The structure to use for the solvent (i.e., water).\n",
    "#   -o  <file.gro>      The output structure with the solvent molecules.\n",
    "#   -p  <file.top>      The topology file. This is overwritten to include the\n",
    "#                       water molecules.\n",
    "\n",
    "gmx solvate \\\n",
    "    -cp $MYPROTEIN.4gmx.box.gro \\\n",
    "    -cs spc216.gro \\\n",
    "    -o $MYPROTEIN.4gmx.box.slv.gro \\\n",
    "    -p $MYPROTEIN.top"
   ]
  },
  {
   "cell_type": "markdown",
   "id": "edd23d10-e11e-40cc-a760-9ae1dec258fd",
   "metadata": {},
   "source": [
    "Let's have a look at the solvated structure.\n",
    "\n",
    "> ***What does the shape of the periodic boundary box look like?***\n",
    ">\n",
    "> Visualize the structure, and compare what you see to what you generated before."
   ]
  },
  {
   "cell_type": "code",
   "execution_count": null,
   "id": "82ef39ac-c08c-4a82-82b9-14000e16dbf1",
   "metadata": {},
   "outputs": [],
   "source": [
    "import glob\n",
    "import nglview as nv\n",
    "\n",
    "grofile = glob.glob(\"*.4gmx.box.slv.gro\").pop()\n",
    "\n",
    "view = nv.show_structure_file(grofile, default_representation=False)\n",
    "view._remote_call(\"setSize\", target=\"Widget\", args=[\"800px\", \"600px\"])\n",
    "view.add_cartoon(\"protein\", color_scheme=\"residueindex\")\n",
    "view.add_representation(\"line\", selection=\"water\")\n",
    "view.add_surface(\"protein\", opacity=0.15)\n",
    "view.remove_spacefill()\n",
    "view.center() # Center and zoom molecule\n",
    "view"
   ]
  },
  {
   "cell_type": "markdown",
   "id": "693a69cd-f66f-4f3a-bbad-d8e256db1e4a",
   "metadata": {},
   "source": [
    "***\n",
    "\n",
    "## Adding ions ##\n",
    "\n",
    "Normally phsiological processes do not take place in destilled water. Therefore, it makes sense to use physiological ion concentrations in the simulation as well.\n",
    "Moreover, most proteins are charged. However, in nature, there is no charge without a counter charge. Thus, we can use ions to neutralize our system."
   ]
  },
  {
   "cell_type": "code",
   "execution_count": null,
   "id": "cc9874c6-5ac6-4d5e-8ef8-3599fd03640c",
   "metadata": {
    "vscode": {
     "languageId": "shellscript"
    }
   },
   "outputs": [],
   "source": [
    "%%bash\n",
    "\n",
    "gmx grompp \\\n",
    "    -f add_ions.mdp \\\n",
    "    -c $MYPROTEIN.4gmx.box.slv.gro \\\n",
    "    -p $MYPROTEIN.top \\\n",
    "    -o add_ions.tpr\n",
    "\n",
    "# When asked, which molecules should be replaced ions, select SOL (solvent molecules)\n",
    "gmx genion \\\n",
    "    -s add_ions.tpr \\\n",
    "    -p $MYPROTEIN.top \\\n",
    "    -o $MYPROTEIN.4gmx.box.slv.ion.gro \\\n",
    "    -np 0 -pname NA -pq 1 \\\n",
    "    -nn 0 -nname CL -nq -1 \\\n",
    "    -conc 0.15 -neutral"
   ]
  },
  {
   "cell_type": "code",
   "execution_count": null,
   "id": "0cfe31b9-2b4c-47aa-ae51-b25dac516fc6",
   "metadata": {},
   "outputs": [],
   "source": [
    "import glob\n",
    "import nglview as nv\n",
    "\n",
    "grofile = glob.glob(\"*.4gmx.box.slv.ion.gro\").pop()\n",
    "\n",
    "view = nv.show_structure_file(grofile, default_representation=False)\n",
    "view._remote_call(\"setSize\", target=\"Widget\", args=[\"800px\", \"600px\"])\n",
    "view.add_cartoon(\"protein\", color_scheme=\"residueindex\")\n",
    "view.add_representation(\"line\", selection=\"water\")\n",
    "view.add_representation(\"spacefill\", selection=\"ion\")\n",
    "# view.add_surface(\"protein\", opacity=0.15)\n",
    "view.center() # Center and zoom molecule\n",
    "view"
   ]
  },
  {
   "cell_type": "markdown",
   "id": "5fb8ed99-343a-4026-bada-905f39713df0",
   "metadata": {},
   "source": [
    "***\n",
    "\n",
    "## Conclusion\n",
    "\n",
    "With that the preparation of the structural model is complete. \n",
    "We did:\n",
    "\n",
    "* ... generate molecular dynamics parameters for our protein complex\n",
    "* ... solvate the protein complex in water under periodic boundary conditions\n",
    "* ... add ions to the water to emulate a 0.15 M sodium cloride solution"
   ]
  }
 ],
 "metadata": {
  "kernelspec": {
   "display_name": "Python 3.10",
   "language": "python",
   "name": "py310"
  },
  "language_info": {
   "codemirror_mode": {
    "name": "ipython",
    "version": 3
   },
   "file_extension": ".py",
   "mimetype": "text/x-python",
   "name": "python",
   "nbconvert_exporter": "python",
   "pygments_lexer": "ipython3",
   "version": "3.10.13"
  }
 },
 "nbformat": 4,
 "nbformat_minor": 5
}
