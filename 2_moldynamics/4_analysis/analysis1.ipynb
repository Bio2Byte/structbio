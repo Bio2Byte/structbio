{
 "cells": [
  {
   "cell_type": "markdown",
   "id": "5b75b40a-f28e-43ce-a5fa-67f1aab5ca8d",
   "metadata": {
    "tags": []
   },
   "source": [
    "# Structbio2022 - Practical day 03\n",
    "\n",
    "## Analysis of MD simulations\n",
    "\n",
    "Document written by [Adrián Diaz](mailto:adrian.diaz@vub.be) & [David Bickel](mailto:david.bickel@vub.be).\n",
    "   \n",
    "<br/>\n",
    "\n",
    "During the last session, we submitted the simulations, which should have run by know.\n",
    "\n",
    "> #### *In a terminal, go to the `3_production` directory and have a look at the generated files.* ####\n",
    ">\n",
    "> * Which file contains the parameters of the simulation?\n",
    "> * Which file contains structural information?\n",
    "> * Which file contains the trajectory (coordinates over time)?\n",
    ">\n",
    "> Use the following commands to do so:\n",
    ">\n",
    "> | BASH command | Function |\n",
    "> |--------------|----------|\n",
    "> | `cd <path/to/directory>` | Changes to a given directory |\n",
    "> | `pwd` | Prints the current working directory |\n",
    "> | `ls` | Shows the content of a directory |\n",
    "> | `ls -lh` | Same as above in more detail |\n",
    "> | `less <file>` | Shows the content of a file, exit by pressing [Q] |\n",
    "\n",
    "\n",
    "***\n",
    "\n",
    "Let's have a first look at the energetic properties of system throughout the simulation. This can give us a first impression if something went wrong during the simulation.\n",
    "\n",
    "> #### *Can you verify that the simulations ran consistently by looking at its energetic properties?* ####\n",
    "> Which properties would you like to look at? Here is a list of all the availble properties. Feel free to play around.\n",
    "> (*e.g.*, How does temperature correlate with kinetic/total energy?)\n",
    "> ```python\n",
    "> [ \n",
    ">   'Time', 'Bond', 'U-B', 'Proper Dih.', 'Improper Dih.', 'CMAP Dih.',\n",
    ">   'LJ-14', 'Coulomb-14', 'LJ (SR)', 'Coulomb (SR)', 'Coul. recip.',\n",
    ">   'Potential', 'Kinetic En.', 'Total Energy', 'Conserved En.',\n",
    ">   'Temperature', 'Pressure', 'Constr. rmsd', 'Box-X', 'Box-Y', 'Box-Z',\n",
    ">   'Volume', 'Density', 'pV', 'Enthalpy', 'Vir-XX', 'Vir-XY', 'Vir-XZ',\n",
    ">   'Vir-YX', 'Vir-YY', 'Vir-YZ', 'Vir-ZX', 'Vir-ZY', 'Vir-ZZ', 'Pres-XX',\n",
    ">   'Pres-XY', 'Pres-XZ', 'Pres-YX', 'Pres-YY', 'Pres-YZ', 'Pres-ZX',\n",
    ">   'Pres-ZY', 'Pres-ZZ', '#Surf*SurfTen', 'Box-Vel-XX', 'Box-Vel-YY',\n",
    ">   'Box-Vel-ZZ', 'T-Protein', 'T-non-Protein'\n",
    "> ]\n",
    "> ```"
   ]
  },
  {
   "cell_type": "code",
   "execution_count": null,
   "id": "23aedbd2-0565-4364-9852-50785631cf3b",
   "metadata": {},
   "outputs": [],
   "source": [
    "import matplotlib.pyplot as plt\n",
    "import pandas as pd\n",
    "import panedr\n",
    "%matplotlib inline\n",
    "\n",
    "# Read the data\n",
    "data = panedr.edr_to_df(\"../3_production/npt_pme.edr\")\n",
    "\n",
    "fig, ax = plt.subplots(1,1, figsize=(4,2), dpi=150)\n",
    "ax.grid(True, \"both\", \"both\", linewidth=.5, alpha=.5)\n",
    "\n",
    "# Plot the data\n",
    "ax.plot(data[\"Time\"], data['Total Energy'])\n",
    "\n",
    "ax.set_ylabel(\"Energy | $kJ \\cdot mol^{-1}$\")\n",
    "ax.set_xlabel(\"Simulation time | ps\")\n",
    "plt.show()"
   ]
  },
  {
   "cell_type": "markdown",
   "id": "14a45600-54de-4bff-bb4b-b7e449cc9fe4",
   "metadata": {},
   "source": [
    "***\n",
    "\n",
    "Now, lets have a first look at our protein complex throughout the simulation.\n",
    "\n",
    "> #### *Does this look, how you would expected?* ####\n",
    "> How would you have expected teh simulations to look like?\n",
    "> Have a look at the structure and think, what could have happend to it?"
   ]
  },
  {
   "cell_type": "code",
   "execution_count": null,
   "id": "dc837bbf-72bd-4334-aee2-5e8e8b8cfe8a",
   "metadata": {},
   "outputs": [],
   "source": [
    "import MDAnalysis as mda\n",
    "import nglview as nv\n",
    "\n",
    "md = mda.Universe(\"../3_production/npt_pme_0001.tpr\", \"../3_production/npt_pme.xtc\", in_memory=True, in_memory_step=200)\n",
    "view = nv.show_mdanalysis(md, default_representation=False)\n",
    "view._remote_call(\"setSize\", target=\"Widget\", args=[\"800px\", \"600px\"])\n",
    "view.add_cartoon(\"protein\", color_scheme=\"sstruc\")\n",
    "view.add_representation(\"line\", selection=\"water\")\n",
    "view.add_representation(\"ball+stick\", selection=\"ion\")\n",
    "view.center() # Center and zoom molecule\n",
    "view"
   ]
  },
  {
   "cell_type": "markdown",
   "id": "99eb23e8-8d31-4014-bbfb-3fb99b05a862",
   "metadata": {},
   "source": [
    "***\n",
    "\n",
    "## Creation of an index file\n",
    "\n",
    "To facilitate later analysis, let's create an index file.\n",
    "These files are used, to tell GROMACS, on which atoms certain analyses should be performed.\n",
    "\n",
    "> #### *Create and index file with groups for each ccdB, and for ccdA.* ####\n",
    ">\n",
    "> GROMACS automatically creates some default groups. You can always display all existing groups by pressing [ENTER].\n",
    "> After you created the groups for the proteins, you can rename them, *e.g.*, `name 19 ccdB_1` renames group #19 to \"ccdB_1\".\n",
    "> Use the following names:\n",
    "> * ccdB_1\n",
    "> * ccdB_2\n",
    "> * ccdA"
   ]
  },
  {
   "cell_type": "raw",
   "id": "e52f1ce0-71d2-4006-a2ac-bcf64aed01de",
   "metadata": {
    "jp-MarkdownHeadingCollapsed": true,
    "tags": []
   },
   "source": [
    "gmx make_ndx -f ../3_production/npt_pme.gro -o index.ndx"
   ]
  },
  {
   "cell_type": "markdown",
   "id": "92218da0-863d-4173-b35e-cc2a0d64cba8",
   "metadata": {},
   "source": [
    "## Unwrapping the coordinates, stripping solvent\n",
    "\n",
    "To get a nice representation of the trajectory, we need to:\n",
    "* center the protein(s) in the unit cell\n",
    "* move all atoms into the same unit cell\n",
    "* doing the above, maintain molecules intact"
   ]
  },
  {
   "cell_type": "raw",
   "id": "531cb266-a0e5-40fc-a0c8-c7fe175ce133",
   "metadata": {},
   "source": [
    "# TRJCONV\n",
    "# =======\n",
    "#\n",
    "# Alters an existing trajectory file. This command is used to perform coordinate\n",
    "# transformations, file type convertions, and the removal of atoms.\n",
    "#\n",
    "# Parameters:\n",
    "#   -f <file.xtc>   The trajectory generated during the simulation\n",
    "#   -s <file.tpr>   A structure file associated to the trajectory\n",
    "#   -n <file.ndx>   An index file\n",
    "#   -o <file.top>   The output trajectory\n",
    "#   -ur compact     Wrap atoms into a compact unit cell\n",
    "#   -pbc mol        When tranlating atoms, keep molecules together.\n",
    "#   -center         Redefine the center of the unit cell\n",
    "\n",
    "# Excute in the terminal\n",
    "# ... for centering select one(!) of the ccdBs\n",
    "# ... for output select \"Protein\"\n",
    "gmx trjconv -f ../3_production/npt_pme.xtc \\\n",
    "            -s ../3_production/npt_pme_0001.tpr \\\n",
    "            -n index.ndx \\\n",
    "            -o dry_md.xtc \\\n",
    "            -pbc mol \\\n",
    "            -ur compact \\\n",
    "            -center\n",
    "\n",
    "# CONVERT-TPR\n",
    "# ===========\n",
    "#\n",
    "# Alters an existing tpr-file (run-file). This command is used to extend\n",
    "# simulations, or remove atoms from the simulation.\n",
    "#\n",
    "# Parameters:\n",
    "#   -s <file.tpr>   Input tpr-file \n",
    "#   -n <file.ndx>   Indexfile defining atom groups in the structure.\n",
    "#   -o <file.tpr>   Output tpr-file\n",
    "\n",
    "# Excute in the terminal\n",
    "# ... for output select \"Protein\"\n",
    "gmx convert-tpr -s ../3_production/npt_pme_0001.tpr \\\n",
    "                -n index.ndx \\\n",
    "                -o dry_md.tpr"
   ]
  },
  {
   "cell_type": "markdown",
   "id": "b72e7cb3-d711-4c40-8da4-428d2d78b2d4",
   "metadata": {},
   "source": [
    "Now, let's have a look at the trajectory again."
   ]
  },
  {
   "cell_type": "code",
   "execution_count": null,
   "id": "6b6c5fae-5275-4dd6-ad80-3d4803291b01",
   "metadata": {},
   "outputs": [],
   "source": [
    "import MDAnalysis as mda\n",
    "import nglview as nv\n",
    "\n",
    "md = mda.Universe(\"dry_md.tpr\", \"dry_md.xtc\")\n",
    "view = nv.show_mdanalysis(md, default_representation=False)\n",
    "view._remote_call(\"setSize\", target=\"Widget\", args=[\"800px\", \"600px\"])\n",
    "view.add_cartoon(\"protein\", color_scheme=\"sstruc\")\n",
    "view.center() # Center and zoom molecule\n",
    "view"
   ]
  },
  {
   "cell_type": "markdown",
   "id": "ecd95f6c-3e15-4944-b62a-c40675926dcd",
   "metadata": {},
   "source": [
    "Ok, now we can start with a few standard analyses\n",
    "\n",
    "***\n",
    "\n",
    "## RMSD analysis\n",
    "\n",
    "The RMSD (root mean square deviation) corresponds to the distance between two structures in the conformational space. It is widely applied to compare structures.\n",
    "\n",
    "$$ RMSD = \\sqrt { \\frac{1}{N} \\sum^{N}_{i=1} (x_i(t) - x_{i, ref})^2 } $$\n",
    "\n",
    "\n",
    "> #### *Run the RMSD calculation for all proteins, as well as each individual protein.* ####\n",
    "> Have a look at the results.\n",
    "> How rigid is a single ccdB in comparison to the whole complex?\n",
    "> How rigid is ccdB in comparison to ccdA."
   ]
  },
  {
   "cell_type": "raw",
   "id": "b56307f2-b116-4c94-a14e-3781fb53bd86",
   "metadata": {},
   "source": [
    "# RMS\n",
    "# ---\n",
    "#\n",
    "# Calculates the RMSD after superimposing each frame in the trajectory\n",
    "# with a reference frame\n",
    "#\n",
    "# Parameters:\n",
    "#   -s <file.tpr>   The reference structure \n",
    "#   -f <file.tpr>   The trajectory on which to run the calculation\n",
    "#   -n <file.ndx>   Index file defining atom groups in the structure.\n",
    "#   -o <file.xvg>   Output file for the data\n",
    "#   -xvg [OPTION]   Defines the format of the outputfile\n",
    "\n",
    "gmx rms -s ../1_prepare_input/*.4gmx.box.gro \\\n",
    "        -f dry_md.xtc \\\n",
    "        -n index.ndx \\\n",
    "        -o rmsd_complex.xvg \\\n",
    "        -xvg none"
   ]
  },
  {
   "cell_type": "code",
   "execution_count": null,
   "id": "826c24dc-5204-4499-990d-391570373672",
   "metadata": {},
   "outputs": [],
   "source": [
    "import matplotlib.pyplot as plt\n",
    "import pandas as pd\n",
    "%matplotlib inline\n",
    "\n",
    "# Read data\n",
    "data = pd.read_table(\"rmsd_complex.xvg\", names=[\"Time\", \"RMSD\"], sep=\"\\s+\")\n",
    "\n",
    "# Plot data\n",
    "fig, ax = plt.subplots(1,1, figsize=(4,2), dpi=150)\n",
    "ax.grid(True, \"both\", \"both\", linewidth=.5, alpha=.5)\n",
    "ax.plot(data[\"Time\"], data['RMSD'])\n",
    "ax.set_ylabel(\"RMSD | nm\")\n",
    "ax.set_xlabel(\"Simulation time | ps\")\n",
    "plt.show()"
   ]
  },
  {
   "cell_type": "markdown",
   "id": "15dabd98-a5ca-4907-8681-93540925a471",
   "metadata": {},
   "source": [
    "***\n",
    "\n",
    "## RMSF analysis\n",
    "\n",
    "The RMSF (root mean square fluctuation) represents the standard deviation of the atomic positions over time. It is thus a measure, of how flexible or dynamic certain regions of a protein are.\n",
    "\n",
    "$$ \\sqrt { \\frac{1}{N} \\sum^{N}_{i=1} (x_i - \\bar{x})^2 } $$\n",
    "\n",
    "> #### *Calculate the RMSF for each of the ccdB monomers.* ####\n",
    "> Plot the ccdB monomers in the same plot and compare the results."
   ]
  },
  {
   "cell_type": "raw",
   "id": "62026e78-0afb-45f4-a404-f8c1cd65877b",
   "metadata": {},
   "source": [
    "# Perform the calculation for each of the monomers. Make sure to write into separate output files.\n",
    "gmx rmsf -s ../1_prepare_input/*.4gmx.box.gro \\\n",
    "         -f dry_md.xtc \\\n",
    "         -n index.ndx \\\n",
    "         -o rmsf_ccdB.1.xvg \\\n",
    "         -res -xvg none"
   ]
  },
  {
   "cell_type": "code",
   "execution_count": null,
   "id": "753cbabc-1dfc-42d6-84a9-1a16359f1927",
   "metadata": {},
   "outputs": [],
   "source": [
    "import matplotlib.pyplot as plt\n",
    "import pandas as pd\n",
    "%matplotlib inline\n",
    "\n",
    "# Read data (adjust filenames here)\n",
    "data1 = pd.read_table(\"rmsf_ccdB.1.xvg\", names=[\"resid\", \"RMSF\"], sep=\"\\s+\")\n",
    "data2 = pd.read_table(\"rmsf_ccdB.2.xvg\", names=[\"resid\", \"RMSF\"], sep=\"\\s+\")\n",
    "\n",
    "# Plot data\n",
    "fig, ax = plt.subplots(1,1, figsize=(4,2), dpi=150)\n",
    "ax.grid(True, \"both\", \"both\", linewidth=.5, alpha=.5)\n",
    "ax.plot(data1[\"resid\"], data1['RMSF'], linewidth=.7)\n",
    "ax.plot(data2[\"resid\"].iloc[:101], data2['RMSF'].iloc[:101], linewidth=.7)\n",
    "ax.set_ylabel(\"RMSF | nm\")\n",
    "ax.set_xlabel(\"Residues numbers\")\n",
    "plt.show()"
   ]
  },
  {
   "cell_type": "markdown",
   "id": "275d0793-921c-4eca-aff7-7ca7c2f02f02",
   "metadata": {},
   "source": [
    "> #### *Calculate the RMSF for the whole complex.* ####\n",
    "> Let's look at the structure and compare the highlighted regions to the plot before."
   ]
  },
  {
   "cell_type": "raw",
   "id": "f3bb0507-e369-406d-8883-c4207a9ec3c3",
   "metadata": {},
   "source": [
    "gmx rmsf -s ../1_prepare_input/*.4gmx.box.gro \\\n",
    "         -f dry_md.xtc \\\n",
    "         -n index.ndx \\\n",
    "         -o rmsf_complex.xvg \\\n",
    "         -oq rmsf_complex.pdb \\\n",
    "         -res -xvg none"
   ]
  },
  {
   "cell_type": "code",
   "execution_count": null,
   "id": "80ad12c1-48ed-4759-8c4e-0199b3529f79",
   "metadata": {},
   "outputs": [],
   "source": [
    "import glob\n",
    "import nglview as nv\n",
    "\n",
    "pdbfile = \"rmsf_complex.pdb\"\n",
    "\n",
    "view = nv.show_structure_file(pdbfile, default_representation=False)\n",
    "view._remote_call(\"setSize\", target=\"Widget\", args=[\"800px\", \"600px\"])\n",
    "view.add_representation(\"backbone\", selection=\"protein\", color_scheme=\"bfactor\")\n",
    "#view.add_representation(\"licorice\", selection=\"protein\", color_scheme=\"bfactor\")\n",
    "view.center() # Center and zoom molecule\n",
    "view"
   ]
  },
  {
   "cell_type": "markdown",
   "id": "04f9a858-1a61-4e6b-8c8f-7a408df6245b",
   "metadata": {},
   "source": [
    "***\n",
    "\n",
    "## Radius of gyration \n",
    "\n",
    "The radius of gyration it is a simple measure of the globularity and compactness of a protein and can be directly related to SAXS data.\n",
    "\n",
    "$$ R_{gyr} = \\sqrt{ \\frac{\\sum_{i} m_i \\lVert \\vec{r}_i \\rVert^2}{\\sum_{i} m_i} } $$\n",
    "\n",
    "> #### *Let's calculate the radius of gyration for the protein complex.* ####\n",
    "> How will the inclusion/exclusion of ccdA influence the radius of gyration?"
   ]
  },
  {
   "cell_type": "raw",
   "id": "ed3fd402-a08e-4637-b5c8-76237d1aa3d0",
   "metadata": {},
   "source": [
    "# When asked, select Protein\n",
    "printf \"1\\n\" |\n",
    "gmx gyrate -s dry_md.tpr \\\n",
    "           -f dry_md.xtc \\\n",
    "           -n index.ndx \\\n",
    "           -o rgyr.xvg \\\n",
    "           -xvg none"
   ]
  },
  {
   "cell_type": "code",
   "execution_count": null,
   "id": "5190cd95-672c-43b6-a45b-d4ab6ebd6795",
   "metadata": {},
   "outputs": [],
   "source": [
    "import matplotlib.pyplot as plt\n",
    "import numpy as np\n",
    "import pandas as pd\n",
    "from scipy.stats import gaussian_kde\n",
    "%matplotlib inline\n",
    "\n",
    "# Read data (adjust filenames here)\n",
    "data = pd.read_table(\"rgyr.xvg\", names=[\"Time\", \"Rgyr\", \"Rgyr_x\", \"Rgyr_y\", \"Rgyr_z\"], sep=\"\\s+\")\n",
    "values = data['Rgyr']\n",
    "\n",
    "# Plot data\n",
    "fig, (ax0, ax1) = plt.subplots(1,2, figsize=(4,2), dpi=150, sharey=True,\n",
    "                        gridspec_kw={\"width_ratios\": [3,1], \"wspace\": .05})\n",
    "# Time series\n",
    "ax0.grid(True, \"both\", \"both\", linewidth=.5, alpha=.5)\n",
    "ax0.plot(data[\"Time\"], values, linewidth=.7)\n",
    "ax0.set_ylabel(r\"$R_{gyr}$ | nm\")\n",
    "ax0.set_xlabel(\"Time | ns\")\n",
    "\n",
    "# Density distribution\n",
    "kde   = gaussian_kde(values)\n",
    "rvals = np.linspace(np.min(values), np.max(values), 100)\n",
    "ax1.grid(True, \"both\", \"both\", linewidth=.5, alpha=.5)\n",
    "ax1.fill_betweenx(rvals, np.zeros(rvals.shape), kde(rvals))\n",
    "\n",
    "plt.show()"
   ]
  }
 ],
 "metadata": {
  "kernelspec": {
   "display_name": "Python 3 (ipykernel)",
   "language": "python",
   "name": "python3"
  },
  "language_info": {
   "codemirror_mode": {
    "name": "ipython",
    "version": 3
   },
   "file_extension": ".py",
   "mimetype": "text/x-python",
   "name": "python",
   "nbconvert_exporter": "python",
   "pygments_lexer": "ipython3",
   "version": "3.9.5"
  }
 },
 "nbformat": 4,
 "nbformat_minor": 5
}
