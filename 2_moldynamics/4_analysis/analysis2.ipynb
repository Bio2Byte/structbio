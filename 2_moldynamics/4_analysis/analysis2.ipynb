{
 "cells": [
  {
   "cell_type": "markdown",
   "id": "5b75b40a-f28e-43ce-a5fa-67f1aab5ca8d",
   "metadata": {
    "tags": []
   },
   "source": [
    "# Structbio2022 - Practical day 03\n",
    "\n",
    "## Analysis of MD simulations - Part 2\n",
    "\n",
    "Document written by [Adrián Diaz](mailto:adrian.diaz@vub.be) & [David Bickel](mailto:david.bickel@vub.be).\n",
    "\n",
    "<br/>\n",
    "\n",
    "Now, after we did some initial analyses and verified that nothing strange happend, let's address our actual research question.\n",
    "\n",
    "> ***Have a quick look at the crystal structures of the ccdB:ccdB in free and ccdA-bound form.***\n",
    ">\n",
    "> Which of the structures is the ccdA bound form?\n",
    "\n",
    "<br/>\n",
    "\n",
    "In the last steps, we did some general analysis on our trajectory to verify that the simulations ran smoothely. Now let's proceed to target our actual research question.\n",
    "\n",
    "***\n",
    "\n",
    "Before we start, maybe let's remind ourselves of the question we want to tackle.\n",
    "\n",
    "> ***Does ccdA change the way the ccdB:ccdB dimers interact?***\n",
    ">\n",
    "> Which of the structures is the ccdA bound form? Can you see the angle shift between the ccdB-monomers?"
   ]
  },
  {
   "cell_type": "code",
   "execution_count": null,
   "id": "dc837bbf-72bd-4334-aee2-5e8e8b8cfe8a",
   "metadata": {},
   "outputs": [],
   "source": [
    "import nglview as nv\n",
    "\n",
    "ccdBB  = nv.FileStructure(\"dimer_analysis/1x75_superimposed.pdb\")\n",
    "ccdBBA = nv.FileStructure(\"dimer_analysis/3hpw_superimposed.pdb\")\n",
    "\n",
    "view = nv.show_file(ccdBB, default_representation=False)\n",
    "view.add_component(ccdBBA, default_representation=False)\n",
    "\n",
    "# ccdB:ccdB dimer\n",
    "view[0].add_cartoon(selection=\":B\", color=0x337fcc)\n",
    "view[0].add_cartoon(selection=\":A\", color=0x7ba9d8)\n",
    "# ccdB:ccdB.ccdA complex\n",
    "view[1].add_cartoon(selection=\":B\", color=0x7fff00)\n",
    "view[1].add_cartoon(selection=\":A or :X\", color=0xd2ffa6)\n",
    "view.center()\n",
    "view"
   ]
  },
  {
   "cell_type": "markdown",
   "id": "e5d05443-62be-4521-b17d-2bf798cadfae",
   "metadata": {},
   "source": [
    "If both structures are aligned on one of the monomers, the other one seems lightly offset.\n",
    "\n",
    "Let's see if we can quantify that. How would you do that?"
   ]
  },
  {
   "cell_type": "code",
   "execution_count": null,
   "id": "e34bc1b3-a3f4-4058-8a45-8b6d6b5fece7",
   "metadata": {},
   "outputs": [],
   "source": [
    "import MDAnalysis as mda\n",
    "from dimer_analysis import DimerAnalysis\n",
    "\n",
    "# Analyse angle for ccdB:ccdB complex\n",
    "ccdBB  = mda.Universe(\"dimer_analysis/1x75_superimposed.pdb\")\n",
    "analyBB = DimerAnalysis(ccdBB.select_atoms(\"chainID A\"), ccdBB.select_atoms(\"chainID B\"))\n",
    "analyBB.run()\n",
    "\n",
    "# Analyse angle for ccdB:ccdB:ccdA complex\n",
    "ccdBBA = mda.Universe(\"dimer_analysis/3hpw_superimposed.pdb\")\n",
    "analyBBA = DimerAnalysis(ccdBBA.select_atoms(\"chainID A\"), ccdBBA.select_atoms(\"chainID B\"))\n",
    "analyBBA.run()\n",
    "\n",
    "print(\"Angle between dimers (ccdB:ccdB     ): {0:8.3f}°\".format(*analyBB.results.rotation_angle))\n",
    "print(\"Angle between dimers (ccdB:ccdB:ccdA): {0:8.3f}°\".format(*analyBBA.results.rotation_angle))"
   ]
  },
  {
   "cell_type": "markdown",
   "id": "f7142998-00af-40d9-b2ee-eba4f8f2fb0e",
   "metadata": {},
   "source": [
    "*** \n",
    "\n",
    "Now, let's run the same analysis on every frame of our trajectory:"
   ]
  },
  {
   "cell_type": "code",
   "execution_count": null,
   "id": "cd3de122-57e9-4317-b5a6-ae79af9b2475",
   "metadata": {},
   "outputs": [],
   "source": [
    "import MDAnalysis as mda\n",
    "import pandas as pd\n",
    "from dimer_analysis import DimerAnalysis, GmxNDX\n",
    "\n",
    "# Load the trajectory\n",
    "md_simulation = mda.Universe(\"dry_md.tpr\", \"dry_md.xtc\")\n",
    "\n",
    "# load the index file\n",
    "ndx = GmxNDX(\"index.ndx\")\n",
    "\n",
    "# Select first ccdB monomer\n",
    "selection_1 = ndx.select_atomgroup(md_simulation)\n",
    "\n",
    "# Select second ccdB monomer\n",
    "selection_2 = ndx.select_atomgroup(md_simulation)\n",
    "\n",
    "# Run the analysis\n",
    "analy = DimerAnalysis(selection_1, selection_2)\n",
    "analy.run()\n",
    "\n",
    "# Process results\n",
    "data = pd.DataFrame({\"Time\": analy.results.time, \"DimerRotation\": analy.results.rotation_angle})\n",
    "data.head()"
   ]
  },
  {
   "cell_type": "code",
   "execution_count": null,
   "id": "35586b9f-37af-4c7d-a92a-c16575e26e96",
   "metadata": {},
   "outputs": [],
   "source": [
    "data.describe()"
   ]
  },
  {
   "cell_type": "code",
   "execution_count": null,
   "id": "d4b180bc-a869-4e28-8057-2d9972deca98",
   "metadata": {},
   "outputs": [],
   "source": [
    "import matplotlib.pyplot as plt\n",
    "import numpy as np\n",
    "import pandas as pd\n",
    "from scipy.stats import gaussian_kde\n",
    "%matplotlib inline\n",
    "\n",
    "# Plot data\n",
    "fig, (ax0, ax1) = plt.subplots(1,2, figsize=(4,2), dpi=150, sharey=True,\n",
    "                        gridspec_kw={\"width_ratios\": [3,1], \"wspace\": .05})\n",
    "# Time series\n",
    "ax0.grid(True, \"both\", \"both\", linewidth=.5, alpha=.5)\n",
    "ax0.plot(data[\"Time\"], data[\"DimerRotation\"], linewidth=.7)\n",
    "ax0.set_ylabel(\"Rotation | dg\")\n",
    "ax0.set_xlabel(\"Time | ns\")\n",
    "\n",
    "# Density distribution\n",
    "kde   = gaussian_kde(data[\"DimerRotation\"])\n",
    "rvals = np.linspace(np.min(data[\"DimerRotation\"]), np.max(data[\"DimerRotation\"]), 100)\n",
    "ax1.grid(True, \"both\", \"both\", linewidth=.5, alpha=.5)\n",
    "ax1.fill_betweenx(rvals, np.zeros(rvals.shape), kde(rvals))\n",
    "\n",
    "plt.show()"
   ]
  }
 ],
 "metadata": {
  "kernelspec": {
   "display_name": "Python 3 (ipykernel)",
   "language": "python",
   "name": "python3"
  },
  "language_info": {
   "codemirror_mode": {
    "name": "ipython",
    "version": 3
   },
   "file_extension": ".py",
   "mimetype": "text/x-python",
   "name": "python",
   "nbconvert_exporter": "python",
   "pygments_lexer": "ipython3",
   "version": "3.9.5"
  }
 },
 "nbformat": 4,
 "nbformat_minor": 5
}
