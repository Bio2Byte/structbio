{
 "cells": [
  {
   "cell_type": "markdown",
   "id": "055094ed-e9fe-40f7-bd56-b73c1ec5bfaf",
   "metadata": {},
   "source": [
    "# Structbio2022 - Practical day 02\n",
    "\n",
    "## Equilibration of the simulation\n",
    "\n",
    "Document written by [Adrián Diaz](mailto:adrian.diaz@vub.be) & [David Bickel](mailto:david.bickel@vub.be).\n",
    "   \n",
    "<br/>\n",
    "\n",
    "During the **preparation** we built our molecular system. We generated a **coordinate** and a **topology** file. These files contain all the information relevant to the simulation, *e.g.*:\n",
    "* Atoms to be simulated\n",
    "* Coordinates of these atoms\n",
    "* Connectivity (bonds between the atoms)\n",
    "* Parameters to simulate non-bonded interactions (electrostatic & van-der-Waals interactions )\n",
    "\n",
    "Before, we start the simulation, lets recapitulate some basics.\n",
    "The simulation process is carried out in time steps, where each time step corresponds to the passing of a tiny amount of time, $(dt = 2 \\cdot 10^{-15} s)$.\n",
    "During the simulation, each particle has a velocity assigned $(\\vec{v})$.\n",
    "At the beginning of each **time step** ($dt$), the direction an magnitude of $\\vec{v}$ gets updated according to the forces acting on the particle (*e.g.*, bonds, neighboring particles, ...). Then, the particle is moved along $\\vec{v}$ for $dt$.\n",
    "\n",
    "So far, none of the atoms in the system have a velocity. THey are perfectly motionless (comparable to bein \"frozen\" at 0 K). Therefore, we need to \"heat\" the system up, to get the particles to move at a **physiological temperature**. With increasing the temprature the pressure inside the periodic boundary box will rise. So, we will finally adjust the size of the box, to maintain a **constant pressure** at 1 atm."
   ]
  },
  {
   "cell_type": "markdown",
   "id": "ec1fec5c-d1b2-4fce-97fd-4d2dadab15ba",
   "metadata": {},
   "source": [
    "***\n",
    "\n",
    "Let's start by going to the equilibration directory. Then, define the location of the output files from the preparation."
   ]
  },
  {
   "cell_type": "raw",
   "id": "59aa8029-057c-4f60-8a53-0d0fcef7a4ba",
   "metadata": {},
   "source": [
    "# Going to the equilibration from the preparation-directory: go one directory up, goto 2_equilibration\n",
    "cd ../2_equilibration\n",
    "\n",
    "# Define the location of your COORDINATE and TOPOLOGY files\n",
    "TOPFILE=\"../1_prepare_input/...\"\n",
    "CRDFILE=\"../1_prepare_input/...\""
   ]
  },
  {
   "cell_type": "markdown",
   "id": "fe72e28d-c10d-47de-9b5b-582578e1631d",
   "metadata": {},
   "source": [
    "***\n",
    "\n",
    "## Energy minimization\n",
    "\n",
    "To remove artifacts that result from low-resolution (crystal) structures and the packaging of the system, we run an energy minimization first.\n",
    "The energy minimization reduces stress (*e.g.*, by bond streching or clashes), and allows us to start the simulation in a low energetic state.\n",
    "\n",
    "> #### *What would happen, if the simulation is started from a high-energy state?* ####\n",
    "> How does the initial energy relate to forces? \n",
    "> How do forces relate to particle velocities? \n",
    "> What does the the simulation time step mean?\n",
    "\n",
    "The file `01_min_all.mdp` contains all the parameters for the minimization process. Open the file, and check the parameters.\n",
    "\n",
    "> #### *How many minimization steps will be performed* ####\n",
    "> Open `01_min_all.mdp`, and see if you can find out.\n",
    "\n",
    "Finally, execut the commands below in a terminal."
   ]
  },
  {
   "cell_type": "raw",
   "id": "ba02f650-7833-460c-b629-2b25f2a2ac11",
   "metadata": {},
   "source": [
    "# GROMPP\n",
    "# ======\n",
    "#\n",
    "# GROMPP prepares our simulation. It checks all input files for errors and \n",
    "# combines them in single file to start the simulation from.\n",
    "#\n",
    "# Parameters:\n",
    "#    -f <file.mdp>      The file that sets the parameters, how the simulation \n",
    "#                       should be run\n",
    "#    -c <file.crd>      The file containing the coordinates of our protein \n",
    "#                       complex to start the simulation from\n",
    "#    -p <file.top>      The file containing the topology of our protein complex\n",
    "#    -o <file.tpr>      The output file (this file is used by MDRUN)\n",
    "\n",
    "gmx grompp -f  01_min_all.mdp \\\n",
    "           -c ... \\\n",
    "           -p ... \\\n",
    "           -o 01_min_all.tpr\n",
    "    \n",
    "# MDRUN\n",
    "# =====\n",
    "#\n",
    "# MDRUN is the actual command which runs the simulation.\n",
    "# \n",
    "# Parameters:\n",
    "#    -v                 Writes more output for the user to read\n",
    "#    -deffnm <NAME>     Defines the filename for of all input/output\n",
    "#    -nt NUMBER         Defines how many CPUs the job should use\n",
    "\n",
    "gmx mdrun -v -deffnm \"01_min_all\" -nt 4"
   ]
  },
  {
   "cell_type": "markdown",
   "id": "285f1275-be59-48f6-a47a-d6499d829ba4",
   "metadata": {},
   "source": [
    "Lets have a look at the output..."
   ]
  },
  {
   "cell_type": "code",
   "execution_count": null,
   "id": "f8ad6849-d465-42fa-a6c9-bafec1680bb4",
   "metadata": {},
   "outputs": [],
   "source": [
    "import matplotlib as mpl\n",
    "import matplotlib.pyplot as plt\n",
    "import panedr\n",
    "%matplotlib inline\n",
    "\n",
    "# Read the data\n",
    "data = panedr.edr_to_df(\"01_min_all.edr\")\n",
    "\n",
    "fig, ax = plt.subplots(1,1, figsize=(4,2), dpi=150)\n",
    "ax.grid(True, \"both\", \"both\", linewidth=.5, alpha=.5)\n",
    "\n",
    "# Plot the data\n",
    "ax.plot(data[\"Time\"], data['Potential'])\n",
    "\n",
    "ax.set_xlabel(\"Minimization steps\")\n",
    "plt.show()"
   ]
  },
  {
   "cell_type": "markdown",
   "id": "85c3ce21-3c2a-41ba-b256-421074e41d3f",
   "metadata": {},
   "source": [
    "***\n",
    "\n",
    "## Thermalization\n",
    "\n",
    "Next, we need to **heat** our system up to 298 K.\n",
    "\n",
    "> #### *Why do we simulate at 298 K?* ####\n",
    "\n",
    "Since the particles have no velocities yet, at the beginning of this simulation, each particle is assigned a velocity from the Boltzmann distribution at 298 K. Since this assignment is random, we need to simulate a while until the temperature equilibrates around our target temperature.\n",
    "\n",
    "> #### *How long do we simulate?* ####\n",
    "> All simulation parameters are written in the `02_nvt_heat.mdp`.\n",
    "\n",
    "Now, run the simulation on the cluster. This may take a few minutes."
   ]
  },
  {
   "cell_type": "raw",
   "id": "66ae428d-bd27-457b-81b6-7ed6bb39fe73",
   "metadata": {},
   "source": [
    "# Submit the job to the high-performance cluster\n",
    "sbatch mdrun_02_nvt_heat.slrm"
   ]
  },
  {
   "cell_type": "markdown",
   "id": "32b1834a-9a00-4ff7-8861-55a5468d044e",
   "metadata": {},
   "source": [
    "Let's have a look at the evolution of temperature over the simulation time.\n",
    "\n",
    "Instead of Temperature and Time you can display a variety of properties:\n",
    "```python\n",
    "[\n",
    "    'Time', 'Bond', 'U-B', 'Proper Dih.', 'Improper Dih.', 'CMAP Dih.', \n",
    "    'LJ-14', 'Coulomb-14', 'LJ (SR)', 'Coulomb (SR)', 'Coul. recip.', \n",
    "    'Potential', 'Pressure', 'Vir-XX', 'Vir-XY', 'Vir-XZ', 'Vir-YX',\n",
    "    'Vir-YY', 'Vir-YZ', 'Vir-ZX', 'Vir-ZY', 'Vir-ZZ', 'Pres-XX', 'Pres-XY',\n",
    "    'Pres-XZ', 'Pres-YX', 'Pres-YY', 'Pres-YZ', 'Pres-ZX', 'Pres-ZY',\n",
    "    'Pres-ZZ', '#Surf*SurfTen', 'T-rest'\n",
    "]\n",
    "```"
   ]
  },
  {
   "cell_type": "code",
   "execution_count": null,
   "id": "99a9b1e5-e6aa-4bb4-9e27-660af990c6fa",
   "metadata": {},
   "outputs": [],
   "source": [
    "# Read the data\n",
    "data = panedr.edr_to_df(\"02_nvt_heat.edr\")\n",
    "\n",
    "fig, ax = plt.subplots(1,1, figsize=(4,2), dpi=150)\n",
    "ax.grid(True, \"both\", \"both\", linewidth=.5, alpha=.5)\n",
    "\n",
    "# Plot the data\n",
    "ax.plot(data[\"Time\"], data['Temperature'])\n",
    "\n",
    "ax.set_ylabel(\"Temperature | K\")\n",
    "ax.set_xlabel(\"Simulation time | ps\")\n",
    "plt.show()"
   ]
  },
  {
   "cell_type": "markdown",
   "id": "64b3ab61-13eb-41fc-b271-9fdd3401f5bd",
   "metadata": {},
   "source": [
    "***\n",
    "\n",
    "## Pressure equilibration\n",
    "\n",
    "The previous thermalization step was done under constant volume conditions. That means, we kept the size of the periodic boundary box fixed. However, as particles start moving, the pressure inside the box changes. Therefore, we need to adjust the volume to maintain a physiological pressure.\n",
    "\n",
    "> #### *How did the pressure change during the thermalization?* ####\n",
    "> Make an educated guess. Then change the code above to show the pressure instead of temperature.\n",
    "\n",
    "Now, run the simulation on the cluster. This may take a few minutes."
   ]
  },
  {
   "cell_type": "raw",
   "id": "71393f40-e5ab-4526-af2d-13b86146a496",
   "metadata": {},
   "source": [
    "# Submit the job to the high-performance cluster\n",
    "sbatch mdrun_03_npt_equi.slrm"
   ]
  },
  {
   "cell_type": "markdown",
   "id": "9ce5f35b-2186-43ba-9a1f-6eeec5ff722f",
   "metadata": {},
   "source": [
    "Let's have a look at the results again.\n",
    "\n",
    "> #### *Did the pressure reach the desired 1 atm?* ####\n",
    "> Have a look at the `Time` vs `Pressure` plot. Discuss.\n",
    "\n",
    "> #### *How did the volume change over the course of the simulation? What is the final volume?* ####\n",
    "> Make and eductated guess. Then plot `Time` vs `Volume` to see, how it actually changed."
   ]
  },
  {
   "cell_type": "code",
   "execution_count": null,
   "id": "8ef7a287",
   "metadata": {},
   "outputs": [],
   "source": [
    "data = panedr.edr_to_df(\"03_npt_equi.edr\")\n",
    "\n",
    "fig, ax = plt.subplots(1,1, figsize=(4,2), dpi=150)\n",
    "ax.grid(True, \"both\", \"both\", linewidth=.5, alpha=.5)\n",
    "ax.plot(data[\"Time\"], data['Pressure'])\n",
    "ax.set_ylabel(\"Pressure | bar\")\n",
    "ax.set_xlabel(\"Simulation time | ps\")\n",
    "plt.show()"
   ]
  },
  {
   "cell_type": "markdown",
   "id": "cee93551-3614-4a99-ba29-e5e2bde28494",
   "metadata": {},
   "source": [
    "Finally, let's have a look, how the simulation looks."
   ]
  },
  {
   "cell_type": "code",
   "execution_count": null,
   "id": "02c6ae95-5499-4b16-a27a-c7c1ae9e8a9c",
   "metadata": {},
   "outputs": [],
   "source": [
    "import MDAnalysis as mda\n",
    "from MDAnalysis.transformations import unwrap, center_in_box\n",
    "import nglview as nv\n",
    "\n",
    "MD = mda.Universe(\"03_npt_equi.tpr\", \"03_npt_equi.xtc\")\n",
    "MD.trajectory.add_transformations(unwrap(MD.atoms))"
   ]
  },
  {
   "cell_type": "code",
   "execution_count": null,
   "id": "ba882c80-3bcb-4725-bba1-498c216d7592",
   "metadata": {},
   "outputs": [],
   "source": [
    "view = nv.show_mdanalysis(MD)\n",
    "view._remote_call(\"setSize\", target=\"Widget\", args=[\"800px\", \"600px\"])\n",
    "view.add_cartoon(\"protein\", color_scheme=\"sstruc\")\n",
    "view.add_representation(\"ball+stick\", selection=\"ion\")\n",
    "view.add_surface(\"all\", opacity=0.1)\n",
    "view.center() # Center and zoom molecule\n",
    "view"
   ]
  },
  {
   "cell_type": "markdown",
   "id": "e981e76a-1015-481f-b200-d7ee693cc297",
   "metadata": {},
   "source": [
    "***\n",
    "\n",
    "## Proceeding to production\n",
    "\n",
    "With that all preparation of the simulations are complete. We can now start the simulations to answer our questions.\n",
    "Such simulations typically run for days or weeks on a high-performace computing cluster. Therefore we will submit them to a queuing system and analyze them next week.\n",
    "\n",
    "To do that run the following commands in a terminal:"
   ]
  },
  {
   "cell_type": "raw",
   "id": "113a66aa-df22-4d1d-accc-2210cc53138a",
   "metadata": {},
   "source": [
    "# Go to production directory\n",
    "cd ../3_production\n",
    "\n",
    "# Submit the simulation to the cluster\n",
    "sbatch mdrun.slrm"
   ]
  }
 ],
 "metadata": {
  "kernelspec": {
   "display_name": "Python 3 (ipykernel)",
   "language": "python",
   "name": "python3"
  },
  "language_info": {
   "codemirror_mode": {
    "name": "ipython",
    "version": 3
   },
   "file_extension": ".py",
   "mimetype": "text/x-python",
   "name": "python",
   "nbconvert_exporter": "python",
   "pygments_lexer": "ipython3",
   "version": "3.9.5"
  }
 },
 "nbformat": 4,
 "nbformat_minor": 5
}
